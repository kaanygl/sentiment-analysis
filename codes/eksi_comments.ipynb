{
 "cells": [
  {
   "cell_type": "code",
   "execution_count": 23,
   "metadata": {},
   "outputs": [],
   "source": [
    "import pandas as pd\n",
    "import numpy as np\n",
    "import mysql.connector\n",
    "import sqlite3\n",
    "import re"
   ]
  },
  {
   "cell_type": "code",
   "execution_count": 2,
   "metadata": {},
   "outputs": [],
   "source": [
    "df = pd.read_csv(\"eksi_comments.csv\")"
   ]
  },
  {
   "cell_type": "code",
   "execution_count": 29,
   "metadata": {},
   "outputs": [
    {
     "data": {
      "text/html": [
       "<div>\n",
       "<style scoped>\n",
       "    .dataframe tbody tr th:only-of-type {\n",
       "        vertical-align: middle;\n",
       "    }\n",
       "\n",
       "    .dataframe tbody tr th {\n",
       "        vertical-align: top;\n",
       "    }\n",
       "\n",
       "    .dataframe thead th {\n",
       "        text-align: right;\n",
       "    }\n",
       "</style>\n",
       "<table border=\"1\" class=\"dataframe\">\n",
       "  <thead>\n",
       "    <tr style=\"text-align: right;\">\n",
       "      <th></th>\n",
       "      <th>comment</th>\n",
       "      <th>date</th>\n",
       "      <th>secimden_sonra</th>\n",
       "    </tr>\n",
       "  </thead>\n",
       "  <tbody>\n",
       "    <tr>\n",
       "      <th>0</th>\n",
       "      <td>reisin yine silip süpürüp damga vuracağı s...</td>\n",
       "      <td>02.02.2019 19:13</td>\n",
       "      <td>0</td>\n",
       "    </tr>\n",
       "    <tr>\n",
       "      <th>1</th>\n",
       "      <td>\\nanavatan partisinin bir şekilde geri döndüğü...</td>\n",
       "      <td>02.02.2019 19:36</td>\n",
       "      <td>0</td>\n",
       "    </tr>\n",
       "    <tr>\n",
       "      <th>2</th>\n",
       "      <td>\\r\\n    tek bildiğim banko aday mustafa sarıgü...</td>\n",
       "      <td>02.02.2019 21:20</td>\n",
       "      <td>0</td>\n",
       "    </tr>\n",
       "    <tr>\n",
       "      <th>3</th>\n",
       "      <td>\\r\\n    ekrem imamoğlu ve muhtemelen iyi parti...</td>\n",
       "      <td>03.04.2019 10:48</td>\n",
       "      <td>0</td>\n",
       "    </tr>\n",
       "    <tr>\n",
       "      <th>4</th>\n",
       "      <td>\\r\\n    mustafa bozbey'in bursa'yı alacağı seç...</td>\n",
       "      <td>04.04.2019 00:37</td>\n",
       "      <td>0</td>\n",
       "    </tr>\n",
       "  </tbody>\n",
       "</table>\n",
       "</div>"
      ],
      "text/plain": [
       "                                             comment              date  \\\n",
       "0      reisin yine silip süpürüp damga vuracağı s...  02.02.2019 19:13   \n",
       "1  \\nanavatan partisinin bir şekilde geri döndüğü...  02.02.2019 19:36   \n",
       "2  \\r\\n    tek bildiğim banko aday mustafa sarıgü...  02.02.2019 21:20   \n",
       "3  \\r\\n    ekrem imamoğlu ve muhtemelen iyi parti...  03.04.2019 10:48   \n",
       "4  \\r\\n    mustafa bozbey'in bursa'yı alacağı seç...  04.04.2019 00:37   \n",
       "\n",
       "   secimden_sonra  \n",
       "0               0  \n",
       "1               0  \n",
       "2               0  \n",
       "3               0  \n",
       "4               0  "
      ]
     },
     "execution_count": 29,
     "metadata": {},
     "output_type": "execute_result"
    }
   ],
   "source": [
    "df.head(5)"
   ]
  },
  {
   "cell_type": "code",
   "execution_count": 66,
   "metadata": {},
   "outputs": [],
   "source": [
    "df['comment'] = df['comment'].astype(pd.StringDtype())\n",
    "df['date'] = df['date'].astype(pd.StringDtype())"
   ]
  },
  {
   "cell_type": "code",
   "execution_count": 41,
   "metadata": {},
   "outputs": [
    {
     "data": {
      "text/plain": [
       "comment           string[python]\n",
       "date              string[python]\n",
       "secimden_sonra             int64\n",
       "dtype: object"
      ]
     },
     "execution_count": 41,
     "metadata": {},
     "output_type": "execute_result"
    }
   ],
   "source": [
    "df.dtypes"
   ]
  },
  {
   "cell_type": "code",
   "execution_count": 48,
   "metadata": {},
   "outputs": [],
   "source": [
    "comments = df['comment']"
   ]
  },
  {
   "cell_type": "code",
   "execution_count": 51,
   "metadata": {},
   "outputs": [
    {
     "data": {
      "text/plain": [
       "\"\\nanavatan partisinin bir şekilde geri döndüğü ya da eski anap taktiklerinin birileri tarafından keşfedildiğini belli eden başlıktır.(bkz: 20 ekim pazar günü bütün oylar anap'a) (bkz: en sevilmeyen entry'lerini silip tekrar yazmak) da olabilir tabii\\r\\n  \""
      ]
     },
     "execution_count": 51,
     "metadata": {},
     "output_type": "execute_result"
    }
   ],
   "source": [
    "comments[1]"
   ]
  },
  {
   "cell_type": "code",
   "execution_count": 54,
   "metadata": {},
   "outputs": [],
   "source": [
    "comments2 = []\n",
    "for i in range(len(comments)):\n",
    "    comm = comments[i]\n",
    "    comm = comm.replace('\\n','')\n",
    "    comm = comm.replace('\\r','')\n",
    "    comments2.append(comm)"
   ]
  },
  {
   "cell_type": "code",
   "execution_count": 62,
   "metadata": {},
   "outputs": [],
   "source": [
    "df = df.drop('comment',axis=1)"
   ]
  },
  {
   "cell_type": "code",
   "execution_count": 63,
   "metadata": {},
   "outputs": [],
   "source": [
    "df.insert(loc=0, column='comment', value=comments2)"
   ]
  },
  {
   "cell_type": "code",
   "execution_count": 68,
   "metadata": {},
   "outputs": [
    {
     "data": {
      "text/html": [
       "<div>\n",
       "<style scoped>\n",
       "    .dataframe tbody tr th:only-of-type {\n",
       "        vertical-align: middle;\n",
       "    }\n",
       "\n",
       "    .dataframe tbody tr th {\n",
       "        vertical-align: top;\n",
       "    }\n",
       "\n",
       "    .dataframe thead th {\n",
       "        text-align: right;\n",
       "    }\n",
       "</style>\n",
       "<table border=\"1\" class=\"dataframe\">\n",
       "  <thead>\n",
       "    <tr style=\"text-align: right;\">\n",
       "      <th></th>\n",
       "      <th>comment</th>\n",
       "      <th>date</th>\n",
       "      <th>secimden_sonra</th>\n",
       "    </tr>\n",
       "  </thead>\n",
       "  <tbody>\n",
       "    <tr>\n",
       "      <th>0</th>\n",
       "      <td>reisin yine silip süpürüp damga vuracağı s...</td>\n",
       "      <td>02.02.2019 19:13</td>\n",
       "      <td>0</td>\n",
       "    </tr>\n",
       "    <tr>\n",
       "      <th>1</th>\n",
       "      <td>anavatan partisinin bir şekilde geri döndüğü y...</td>\n",
       "      <td>02.02.2019 19:36</td>\n",
       "      <td>0</td>\n",
       "    </tr>\n",
       "    <tr>\n",
       "      <th>2</th>\n",
       "      <td>tek bildiğim banko aday mustafa sarıgül -ş...</td>\n",
       "      <td>02.02.2019 21:20</td>\n",
       "      <td>0</td>\n",
       "    </tr>\n",
       "    <tr>\n",
       "      <th>3</th>\n",
       "      <td>ekrem imamoğlu ve muhtemelen iyi parti ada...</td>\n",
       "      <td>03.04.2019 10:48</td>\n",
       "      <td>0</td>\n",
       "    </tr>\n",
       "    <tr>\n",
       "      <th>4</th>\n",
       "      <td>mustafa bozbey'in bursa'yı alacağı seçim o...</td>\n",
       "      <td>04.04.2019 00:37</td>\n",
       "      <td>0</td>\n",
       "    </tr>\n",
       "  </tbody>\n",
       "</table>\n",
       "</div>"
      ],
      "text/plain": [
       "                                             comment              date  \\\n",
       "0      reisin yine silip süpürüp damga vuracağı s...  02.02.2019 19:13   \n",
       "1  anavatan partisinin bir şekilde geri döndüğü y...  02.02.2019 19:36   \n",
       "2      tek bildiğim banko aday mustafa sarıgül -ş...  02.02.2019 21:20   \n",
       "3      ekrem imamoğlu ve muhtemelen iyi parti ada...  03.04.2019 10:48   \n",
       "4      mustafa bozbey'in bursa'yı alacağı seçim o...  04.04.2019 00:37   \n",
       "\n",
       "   secimden_sonra  \n",
       "0               0  \n",
       "1               0  \n",
       "2               0  \n",
       "3               0  \n",
       "4               0  "
      ]
     },
     "execution_count": 68,
     "metadata": {},
     "output_type": "execute_result"
    }
   ],
   "source": [
    "df.head(5)"
   ]
  },
  {
   "cell_type": "code",
   "execution_count": 67,
   "metadata": {},
   "outputs": [
    {
     "data": {
      "text/plain": [
       "comment           string[python]\n",
       "date              string[python]\n",
       "secimden_sonra             int64\n",
       "dtype: object"
      ]
     },
     "execution_count": 67,
     "metadata": {},
     "output_type": "execute_result"
    }
   ],
   "source": [
    "df.dtypes"
   ]
  },
  {
   "cell_type": "code",
   "execution_count": 75,
   "metadata": {},
   "outputs": [],
   "source": [
    "connection = sqlite3.connect(\"election.db\")\n",
    " \n",
    "cursor = connection.cursor()"
   ]
  },
  {
   "cell_type": "code",
   "execution_count": 77,
   "metadata": {},
   "outputs": [
    {
     "data": {
      "text/plain": [
       "<function Connection.close()>"
      ]
     },
     "execution_count": 77,
     "metadata": {},
     "output_type": "execute_result"
    }
   ],
   "source": [
    "sql_command = \"\"\"CREATE TABLE eksi_comments (\n",
    "    id INTEGER PRIMARY KEY,\n",
    "    Comment TEXT,\n",
    "    Date nchar(20),\n",
    "    Secimden_sonra INTEGER\n",
    ");\"\"\"\n",
    " \n",
    "cursor.execute(sql_command)\n",
    " \n",
    "connection.close"
   ]
  },
  {
   "cell_type": "code",
   "execution_count": 76,
   "metadata": {},
   "outputs": [
    {
     "data": {
      "text/plain": [
       "<function Connection.close()>"
      ]
     },
     "execution_count": 76,
     "metadata": {},
     "output_type": "execute_result"
    }
   ],
   "source": [
    "command = \"DROP TABLE eksi_comments\"\n",
    "\n",
    "cursor.execute(command)\n",
    " \n",
    "connection.close"
   ]
  },
  {
   "cell_type": "code",
   "execution_count": 78,
   "metadata": {},
   "outputs": [],
   "source": [
    "columns = list(df)\n",
    "\n",
    "conn = sqlite3.connect('election.db') \n",
    "\n",
    "cursor = conn.cursor() \n",
    "\n",
    "ids= []\n",
    "\n",
    "for k in range(len(df)):\n",
    "    ids.append(k)\n",
    "    elements = []\n",
    "    for i in columns:\n",
    "        element = df[i][k]\n",
    "\n",
    "        if isinstance(element, np.integer):\n",
    "            \n",
    "            element = element.tolist()\n",
    "            \n",
    "        elements.append(element)\n",
    "    \n",
    "    cursor.execute('''INSERT INTO eksi_comments(id, Comment ,Date, Secimden_sonra) \n",
    "                VALUES(?,?,?,?)''', (ids[k], elements[0], elements[1],elements[2]))\n",
    "\n",
    "\n",
    "conn.commit() \n",
    "conn.close()"
   ]
  }
 ],
 "metadata": {
  "kernelspec": {
   "display_name": "Python 3",
   "language": "python",
   "name": "python3"
  },
  "language_info": {
   "codemirror_mode": {
    "name": "ipython",
    "version": 3
   },
   "file_extension": ".py",
   "mimetype": "text/x-python",
   "name": "python",
   "nbconvert_exporter": "python",
   "pygments_lexer": "ipython3",
   "version": "3.10.6"
  }
 },
 "nbformat": 4,
 "nbformat_minor": 2
}
