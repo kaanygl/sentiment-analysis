{
 "cells": [
  {
   "cell_type": "code",
   "execution_count": 1,
   "metadata": {},
   "outputs": [],
   "source": [
    "import pandas as pd\n",
    "import numpy as np\n",
    "import mysql.connector\n",
    "import sqlite3\n",
    "import re"
   ]
  },
  {
   "cell_type": "code",
   "execution_count": 2,
   "metadata": {},
   "outputs": [],
   "source": [
    "df = pd.read_csv(\"pie_chart_small.csv\")"
   ]
  },
  {
   "cell_type": "code",
   "execution_count": 4,
   "metadata": {},
   "outputs": [
    {
     "data": {
      "text/plain": [
       "['Analysis Desc.',\n",
       " 'Total Analysed Data (Sentences)',\n",
       " 'Analysis Topic',\n",
       " 'Side A',\n",
       " 'Side B',\n",
       " 'Side C (if exists)',\n",
       " 'Sentiment Score of A',\n",
       " 'Sentiment Score of B',\n",
       " 'Percentage of A (After Process)',\n",
       " 'Percentage of B (After Process)',\n",
       " 'Percentage of C (After Process)',\n",
       " 'Total Percentage']"
      ]
     },
     "execution_count": 4,
     "metadata": {},
     "output_type": "execute_result"
    }
   ],
   "source": [
    "columns = list(df)\n",
    "columns"
   ]
  },
  {
   "cell_type": "code",
   "execution_count": 3,
   "metadata": {},
   "outputs": [],
   "source": [
    "connection = sqlite3.connect(\"election.db\")\n",
    " \n",
    "cursor = connection.cursor()"
   ]
  },
  {
   "cell_type": "code",
   "execution_count": 6,
   "metadata": {},
   "outputs": [
    {
     "data": {
      "text/plain": [
       "<function Connection.close()>"
      ]
     },
     "execution_count": 6,
     "metadata": {},
     "output_type": "execute_result"
    }
   ],
   "source": [
    "sql_command = \"\"\"CREATE TABLE small_pie (\n",
    "    id INTEGER PRIMARY KEY,\n",
    "    Analysis_Description nchar(50), \n",
    "    Total_Analysed_Sentences INT,\n",
    "    Analysis_topic nchar(50),\n",
    "    Side_A nchar(50),\n",
    "    Side_B nchar(50),\n",
    "    Side_C nchar(50) NULL,\n",
    "    Sentiment_Score_of_A REAL,\n",
    "    Sentiment_Score_of_B REAL NULL,\n",
    "    Percentage_of_A REAL,\n",
    "    Percentage_of_B REAL,\n",
    "    Percentage_of_C REAL NULL,\n",
    "    Total_Percentage INT\n",
    ");\"\"\"\n",
    " \n",
    "cursor.execute(sql_command)\n",
    " \n",
    "connection.close"
   ]
  },
  {
   "cell_type": "code",
   "execution_count": 7,
   "metadata": {},
   "outputs": [],
   "source": [
    "columns = list(df)\n",
    "\n",
    "conn = sqlite3.connect('election.db') \n",
    "\n",
    "cursor = conn.cursor() \n",
    "\n",
    "ids= []\n",
    "\n",
    "for k in range(len(df)):\n",
    "    ids.append(k)\n",
    "    elements = []\n",
    "    for i in columns:\n",
    "        element = df[i][k]\n",
    "        \n",
    "        if isinstance(element, np.integer):\n",
    "            \n",
    "            element = element.tolist()\n",
    "        elements.append(element)\n",
    "    \n",
    "    cursor.execute('''INSERT INTO small_pie(id, Analysis_Description, Total_Analysed_Sentences, Analysis_topic, Side_A, Side_B, Side_C, Sentiment_Score_of_A, Sentiment_Score_of_B,\n",
    "                Percentage_of_A, Percentage_of_B, Percentage_of_C, Total_Percentage) \n",
    "                VALUES(?,?,?,?,?,?,?,?,?,?,?,?,?)''', (ids[k], elements[0], elements[1],elements[2], elements[3],elements[4], elements[5],elements[6], elements[7],elements[8], elements[9],elements[10], elements[11]))\n",
    "\n",
    "\n",
    "    \n",
    "\n",
    "\n",
    "conn.commit() \n",
    "  \n",
    "# Closing the connection \n",
    "conn.close()"
   ]
  },
  {
   "cell_type": "code",
   "execution_count": null,
   "metadata": {},
   "outputs": [],
   "source": []
  }
 ],
 "metadata": {
  "kernelspec": {
   "display_name": "Python 3",
   "language": "python",
   "name": "python3"
  },
  "language_info": {
   "codemirror_mode": {
    "name": "ipython",
    "version": 3
   },
   "file_extension": ".py",
   "mimetype": "text/x-python",
   "name": "python",
   "nbconvert_exporter": "python",
   "pygments_lexer": "ipython3",
   "version": "3.10.6"
  }
 },
 "nbformat": 4,
 "nbformat_minor": 2
}
