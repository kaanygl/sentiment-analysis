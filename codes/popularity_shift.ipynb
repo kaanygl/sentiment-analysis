{
 "cells": [
  {
   "cell_type": "code",
   "execution_count": 2,
   "metadata": {},
   "outputs": [],
   "source": [
    "import pandas as pd\n",
    "import numpy as np\n",
    "import mysql.connector\n",
    "import sqlite3"
   ]
  },
  {
   "cell_type": "code",
   "execution_count": 3,
   "metadata": {},
   "outputs": [],
   "source": [
    "df = pd.read_csv(\"popularity_shift.csv\")"
   ]
  },
  {
   "cell_type": "code",
   "execution_count": 4,
   "metadata": {},
   "outputs": [],
   "source": [
    "connection = sqlite3.connect(\"election.db\")\n",
    " \n",
    "cursor = connection.cursor()"
   ]
  },
  {
   "cell_type": "code",
   "execution_count": 27,
   "metadata": {},
   "outputs": [
    {
     "data": {
      "text/plain": [
       "<function Connection.close()>"
      ]
     },
     "execution_count": 27,
     "metadata": {},
     "output_type": "execute_result"
    }
   ],
   "source": [
    "sql_command = \"\"\"CREATE TABLE popularity_shift (\n",
    "id INTEGER PRIMARY KEY,\n",
    "Party nchar(50), \n",
    "Total_Analysed_Sentences INT,\n",
    "Analysed_Data_Amount_Before_Election INT,\n",
    "Analysed_Data_Amount_After_Election INT,\n",
    "Sentiment_Score_Before_Election REAL,\n",
    "Sentiment_Score_After_Election REAL\n",
    ");\"\"\"\n",
    " \n",
    "cursor.execute(sql_command)\n",
    " \n",
    "connection.close"
   ]
  },
  {
   "cell_type": "code",
   "execution_count": 26,
   "metadata": {},
   "outputs": [
    {
     "data": {
      "text/plain": [
       "<function Connection.close()>"
      ]
     },
     "execution_count": 26,
     "metadata": {},
     "output_type": "execute_result"
    }
   ],
   "source": [
    "command = \"DROP TABLE popularity_shift\"\n",
    "\n",
    "cursor.execute(command)\n",
    " \n",
    "connection.close"
   ]
  },
  {
   "cell_type": "code",
   "execution_count": 22,
   "metadata": {},
   "outputs": [
    {
     "data": {
      "text/plain": [
       "['Party',\n",
       " 'Total Analysed Data (Sentences)',\n",
       " 'Analysed Data Amount (Before Election)',\n",
       " 'Analysed Data Amount (After Election)',\n",
       " 'Sentiment Score Before Election',\n",
       " 'Sentiment Score After Election']"
      ]
     },
     "execution_count": 22,
     "metadata": {},
     "output_type": "execute_result"
    }
   ],
   "source": [
    "columns = list(df)\n",
    "columns"
   ]
  },
  {
   "cell_type": "code",
   "execution_count": 30,
   "metadata": {},
   "outputs": [],
   "source": [
    "columns = list(df)\n",
    "\n",
    "conn = sqlite3.connect('election.db') \n",
    "\n",
    "cursor = conn.cursor() \n",
    "\n",
    "ids= []\n",
    "\n",
    "for k in range(len(df)):\n",
    "    ids.append(k)\n",
    "    elements = []\n",
    "    for i in columns:\n",
    "        element = df[i][k]\n",
    "        \n",
    "        if isinstance(element, np.integer):\n",
    "            \n",
    "            element = element.tolist()\n",
    "        elements.append(element)\n",
    "    \n",
    "    cursor.execute('''INSERT INTO popularity_shift(id, Party, Total_Analysed_Sentences, Analysed_Data_Amount_Before_Election, Analysed_Data_Amount_After_Election, Sentiment_Score_Before_Election, Sentiment_Score_After_Election) \n",
    "                VALUES(?,?,?,?,?,?,?)''', (ids[k], elements[0], elements[1],elements[2], elements[3],elements[4], elements[5]))\n",
    "\n",
    "\n",
    "\n",
    "conn.commit() \n",
    "conn.close()"
   ]
  },
  {
   "cell_type": "code",
   "execution_count": null,
   "metadata": {},
   "outputs": [],
   "source": []
  }
 ],
 "metadata": {
  "kernelspec": {
   "display_name": "Python 3",
   "language": "python",
   "name": "python3"
  },
  "language_info": {
   "codemirror_mode": {
    "name": "ipython",
    "version": 3
   },
   "file_extension": ".py",
   "mimetype": "text/x-python",
   "name": "python",
   "nbconvert_exporter": "python",
   "pygments_lexer": "ipython3",
   "version": "3.10.6"
  }
 },
 "nbformat": 4,
 "nbformat_minor": 2
}
