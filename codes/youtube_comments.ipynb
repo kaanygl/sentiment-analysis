{
 "cells": [
  {
   "cell_type": "code",
   "execution_count": 1,
   "metadata": {},
   "outputs": [],
   "source": [
    "import pandas as pd\n",
    "import numpy as np\n",
    "import mysql.connector\n",
    "import sqlite3\n",
    "import re"
   ]
  },
  {
   "cell_type": "code",
   "execution_count": 2,
   "metadata": {},
   "outputs": [],
   "source": [
    "df = pd.read_csv(\"youtube_comments.csv\")"
   ]
  },
  {
   "cell_type": "code",
   "execution_count": 3,
   "metadata": {},
   "outputs": [
    {
     "data": {
      "text/html": [
       "<div>\n",
       "<style scoped>\n",
       "    .dataframe tbody tr th:only-of-type {\n",
       "        vertical-align: middle;\n",
       "    }\n",
       "\n",
       "    .dataframe tbody tr th {\n",
       "        vertical-align: top;\n",
       "    }\n",
       "\n",
       "    .dataframe thead th {\n",
       "        text-align: right;\n",
       "    }\n",
       "</style>\n",
       "<table border=\"1\" class=\"dataframe\">\n",
       "  <thead>\n",
       "    <tr style=\"text-align: right;\">\n",
       "      <th></th>\n",
       "      <th>published_at</th>\n",
       "      <th>updated_at</th>\n",
       "      <th>comment</th>\n",
       "      <th>secimden_sonra</th>\n",
       "    </tr>\n",
       "  </thead>\n",
       "  <tbody>\n",
       "    <tr>\n",
       "      <th>0</th>\n",
       "      <td>2024-03-24T20:24:20Z</td>\n",
       "      <td>2024-03-24 20:24:20+00:00</td>\n",
       "      <td>abi video montajlari efektleri falan yeni birş...</td>\n",
       "      <td>0</td>\n",
       "    </tr>\n",
       "    <tr>\n",
       "      <th>1</th>\n",
       "      <td>2024-03-24T20:19:56Z</td>\n",
       "      <td>2024-03-24 20:19:56+00:00</td>\n",
       "      <td>Bu ülkenin başına ne zaman bu ülkeyi gerçekten...</td>\n",
       "      <td>0</td>\n",
       "    </tr>\n",
       "    <tr>\n",
       "      <th>2</th>\n",
       "      <td>2024-03-24T19:59:01Z</td>\n",
       "      <td>2024-03-24 19:59:01+00:00</td>\n",
       "      <td>Teşekkürler.</td>\n",
       "      <td>0</td>\n",
       "    </tr>\n",
       "    <tr>\n",
       "      <th>3</th>\n",
       "      <td>2024-03-24T19:34:31Z</td>\n",
       "      <td>2024-03-24 19:34:31+00:00</td>\n",
       "      <td>Beyler istanbul için Murat kuruma verin ama bu...</td>\n",
       "      <td>0</td>\n",
       "    </tr>\n",
       "    <tr>\n",
       "      <th>4</th>\n",
       "      <td>2024-03-24T19:23:35Z</td>\n",
       "      <td>2024-03-24 19:23:35+00:00</td>\n",
       "      <td>CHP den hayır gelmez bu millete</td>\n",
       "      <td>0</td>\n",
       "    </tr>\n",
       "  </tbody>\n",
       "</table>\n",
       "</div>"
      ],
      "text/plain": [
       "           published_at                 updated_at  \\\n",
       "0  2024-03-24T20:24:20Z  2024-03-24 20:24:20+00:00   \n",
       "1  2024-03-24T20:19:56Z  2024-03-24 20:19:56+00:00   \n",
       "2  2024-03-24T19:59:01Z  2024-03-24 19:59:01+00:00   \n",
       "3  2024-03-24T19:34:31Z  2024-03-24 19:34:31+00:00   \n",
       "4  2024-03-24T19:23:35Z  2024-03-24 19:23:35+00:00   \n",
       "\n",
       "                                             comment  secimden_sonra  \n",
       "0  abi video montajlari efektleri falan yeni birş...               0  \n",
       "1  Bu ülkenin başına ne zaman bu ülkeyi gerçekten...               0  \n",
       "2                                       Teşekkürler.               0  \n",
       "3  Beyler istanbul için Murat kuruma verin ama bu...               0  \n",
       "4                    CHP den hayır gelmez bu millete               0  "
      ]
     },
     "execution_count": 3,
     "metadata": {},
     "output_type": "execute_result"
    }
   ],
   "source": [
    "df.head()"
   ]
  },
  {
   "cell_type": "code",
   "execution_count": 4,
   "metadata": {},
   "outputs": [],
   "source": [
    "df['published_at'] = df['published_at'].astype(pd.StringDtype())\n",
    "df['updated_at'] = df['updated_at'].astype(pd.StringDtype())\n",
    "df['comment'] = df['comment'].astype(pd.StringDtype())"
   ]
  },
  {
   "cell_type": "code",
   "execution_count": 5,
   "metadata": {},
   "outputs": [
    {
     "data": {
      "text/plain": [
       "published_at      string[python]\n",
       "updated_at        string[python]\n",
       "comment           string[python]\n",
       "secimden_sonra             int64\n",
       "dtype: object"
      ]
     },
     "execution_count": 5,
     "metadata": {},
     "output_type": "execute_result"
    }
   ],
   "source": [
    "df.dtypes"
   ]
  },
  {
   "cell_type": "code",
   "execution_count": 7,
   "metadata": {},
   "outputs": [],
   "source": [
    "connection = sqlite3.connect(\"election.db\")\n",
    " \n",
    "cursor = connection.cursor()"
   ]
  },
  {
   "cell_type": "code",
   "execution_count": 12,
   "metadata": {},
   "outputs": [
    {
     "data": {
      "text/plain": [
       "<function Connection.close()>"
      ]
     },
     "execution_count": 12,
     "metadata": {},
     "output_type": "execute_result"
    }
   ],
   "source": [
    "sql_command = \"\"\"CREATE TABLE youtube_comments (\n",
    "    id INTEGER PRIMARY KEY,\n",
    "    Published_at DATE,\n",
    "    Updated_at DATE,\n",
    "    Comment TEXT,\n",
    "    Secimden_sonra INTEGER\n",
    ");\"\"\"\n",
    " \n",
    "cursor.execute(sql_command)\n",
    " \n",
    "connection.close"
   ]
  },
  {
   "cell_type": "code",
   "execution_count": 11,
   "metadata": {},
   "outputs": [
    {
     "data": {
      "text/plain": [
       "<function Connection.close()>"
      ]
     },
     "execution_count": 11,
     "metadata": {},
     "output_type": "execute_result"
    }
   ],
   "source": [
    "command = \"DROP TABLE youtube_comments\"\n",
    "\n",
    "cursor.execute(command)\n",
    " \n",
    "connection.close"
   ]
  },
  {
   "cell_type": "code",
   "execution_count": 13,
   "metadata": {},
   "outputs": [
    {
     "ename": "InterfaceError",
     "evalue": "Error binding parameter 1 - probably unsupported type.",
     "output_type": "error",
     "traceback": [
      "\u001b[1;31m---------------------------------------------------------------------------\u001b[0m",
      "\u001b[1;31mInterfaceError\u001b[0m                            Traceback (most recent call last)",
      "Cell \u001b[1;32mIn[13], line 20\u001b[0m\n\u001b[0;32m     16\u001b[0m             element \u001b[38;5;241m=\u001b[39m element\u001b[38;5;241m.\u001b[39mtolist()\n\u001b[0;32m     18\u001b[0m         elements\u001b[38;5;241m.\u001b[39mappend(element)\n\u001b[1;32m---> 20\u001b[0m     \u001b[43mcursor\u001b[49m\u001b[38;5;241;43m.\u001b[39;49m\u001b[43mexecute\u001b[49m\u001b[43m(\u001b[49m\u001b[38;5;124;43m'''\u001b[39;49m\u001b[38;5;124;43mINSERT INTO youtube_comments(id, Published_at ,Updated_at, Comment,Secimden_sonra) \u001b[39;49m\n\u001b[0;32m     21\u001b[0m \u001b[38;5;124;43m                VALUES(?,?,?,?,?)\u001b[39;49m\u001b[38;5;124;43m'''\u001b[39;49m\u001b[43m,\u001b[49m\u001b[43m \u001b[49m\u001b[43m(\u001b[49m\u001b[43mids\u001b[49m\u001b[43m[\u001b[49m\u001b[43mk\u001b[49m\u001b[43m]\u001b[49m\u001b[43m,\u001b[49m\u001b[43m \u001b[49m\u001b[43melements\u001b[49m\u001b[43m[\u001b[49m\u001b[38;5;241;43m0\u001b[39;49m\u001b[43m]\u001b[49m\u001b[43m,\u001b[49m\u001b[43m \u001b[49m\u001b[43melements\u001b[49m\u001b[43m[\u001b[49m\u001b[38;5;241;43m1\u001b[39;49m\u001b[43m]\u001b[49m\u001b[43m,\u001b[49m\u001b[43melements\u001b[49m\u001b[43m[\u001b[49m\u001b[38;5;241;43m2\u001b[39;49m\u001b[43m]\u001b[49m\u001b[43m,\u001b[49m\u001b[43melements\u001b[49m\u001b[43m[\u001b[49m\u001b[38;5;241;43m3\u001b[39;49m\u001b[43m]\u001b[49m\u001b[43m)\u001b[49m\u001b[43m)\u001b[49m\n\u001b[0;32m     28\u001b[0m conn\u001b[38;5;241m.\u001b[39mcommit() \n\u001b[0;32m     30\u001b[0m \u001b[38;5;66;03m# Closing the connection \u001b[39;00m\n",
      "\u001b[1;31mInterfaceError\u001b[0m: Error binding parameter 1 - probably unsupported type."
     ]
    }
   ],
   "source": [
    "columns = list(df)\n",
    "\n",
    "conn = sqlite3.connect('election.db') \n",
    "\n",
    "cursor = conn.cursor() \n",
    "\n",
    "ids= []\n",
    "\n",
    "for k in range(len(df)):\n",
    "    ids.append(k)\n",
    "    elements = []\n",
    "    for i in columns:\n",
    "        element = df[i][k]\n",
    "\n",
    "        if isinstance(element, np.integer):\n",
    "            element = element.tolist()\n",
    "            \n",
    "        elements.append(element)\n",
    "    \n",
    "    cursor.execute('''INSERT INTO youtube_comments(id, Published_at ,Updated_at, Comment,Secimden_sonra) \n",
    "                VALUES(?,?,?,?,?)''', (ids[k], elements[0], elements[1],elements[2],elements[3]))\n",
    "\n",
    "\n",
    "\n",
    "    \n",
    "\n",
    "\n",
    "conn.commit() \n",
    "  \n",
    "# Closing the connection \n",
    "conn.close()"
   ]
  }
 ],
 "metadata": {
  "kernelspec": {
   "display_name": "Python 3",
   "language": "python",
   "name": "python3"
  },
  "language_info": {
   "codemirror_mode": {
    "name": "ipython",
    "version": 3
   },
   "file_extension": ".py",
   "mimetype": "text/x-python",
   "name": "python",
   "nbconvert_exporter": "python",
   "pygments_lexer": "ipython3",
   "version": "3.10.6"
  }
 },
 "nbformat": 4,
 "nbformat_minor": 2
}
